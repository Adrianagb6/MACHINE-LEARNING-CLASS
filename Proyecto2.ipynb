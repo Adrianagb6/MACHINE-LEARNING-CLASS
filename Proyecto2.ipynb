{
  "nbformat": 4,
  "nbformat_minor": 0,
  "metadata": {
    "colab": {
      "name": "Untitled4.ipynb",
      "provenance": []
    },
    "kernelspec": {
      "name": "python3",
      "display_name": "Python 3"
    },
    "language_info": {
      "name": "python"
    }
  },
  "cells": [
    {
      "cell_type": "code",
      "metadata": {
        "id": "FyUVaMbPQOCT"
      },
      "source": [
        "# Definimos la clase del consumidor\n",
        "class Consumidor:\n",
        "  def __init__(self,salario :float,dias_trabajados :int, ahorros :float,porcentaje_gasto :float, valor_compra :float): # metodo de inicializacion del objeto    \n",
        "    self.salario=salario\n",
        "    self.dias_trabajados=dias_trabajados\n",
        "    self.ahorros=ahorros\n",
        "    self.porcentaje_gasto=porcentaje_gasto\n",
        "    self.valor_compra=valor_compra\n",
        "    self.pago=self.salario*int(self.dias_trabajados/30)\n",
        "    self.total_cuenta=self.pago+self.ahorros\n",
        "    self.capacidad=self.total_cuenta*self.porcentaje_gasto/100\n",
        "  # metodo para modificar\n",
        "  def mod_salario(self,nuevo_salario):\n",
        "    self.salario=nuevo_salario\n",
        "    self.pago=self.salario*int(self.dias_trabajados/30)\n",
        "    print(\"Salario Modificado, nuevo salario: $\",self.salario)\n",
        "  def mod_dias_trabajados(self, nuevos_dias_trabajados):\n",
        "    self.dias_trabajados=nuevos_dias_trabajados\n",
        "    self.pago=self.salario*int(self.dias_trabajados/30)\n",
        "    print(\"Dias trabajados Modificado, nuevos dias trabajados: \",self.dias_trabajados)\n",
        "  def mod_ahorros(self, nuevos_ahorros):\n",
        "    self.ahorros=nuevos_ahorros\n",
        "    self.total_cuenta=self.pago+self.ahorros\n",
        "    self.capacidad=self.total_cuenta*self.porcentaje_gasto/100\n",
        "    print(\"Nuevos ahorros Modificado: $\",self.ahorros)\n",
        "  def mod_porcentaje_gasto(self, nuevo_porcentaje_gasto):\n",
        "    self.porcentaje_gasto=nuevo_porcentaje_gasto\n",
        "    self.capacidad=self.total_cuenta*self.porcentaje_gasto/100\n",
        "    print(\"Nuevo porcentaje gasto modificado: \",self.porcentaje_gasto)\n",
        "  def mod_valor_compra(self, nuevo_valor_compra):\n",
        "    self.valor_compra=nuevo_valor_compra\n",
        "    print(\"Nuevo valor compra: \",self.valor_compra)\n",
        "  # metodo para determinar el salario pagado \n",
        "  def pago_nomina(self):\n",
        "    if self.dias_trabajados >= 30: #dias\n",
        "      print (\"Su salario total es: $\",self.pago)\n",
        "    else: \n",
        "      print (\"Aun no ha completado su salario\")\n",
        "  # metodo para determinar riqueza acumulada\n",
        "  def riqueza(self):\n",
        "    print(\"total en cuenta es: $\",self.total_cuenta)\n",
        "    print(\"dinero disponible para gastar es: $\",self.capacidad)\n",
        "  def compra(self):\n",
        "    puede_comprar=(self.capacidad >= self.valor_compra)\n",
        "    diferencia=self.capacidad - self.valor_compra\n",
        "    if puede_comprar: \n",
        "      print(\"puede comprar el objeto\")\n",
        "      print(\"nuevo dinero disponible para gastar: $\", diferencia)\n",
        "    else: \n",
        "      print(\"no puede comprar el objeto, fondos insuficientes\")\n",
        "      print(\"falta: $ \",diferencia)"
      ],
      "execution_count": 106,
      "outputs": []
    },
    {
      "cell_type": "code",
      "metadata": {
        "colab": {
          "base_uri": "https://localhost:8080/"
        },
        "id": "jGggaYwXbtSf",
        "outputId": "9827a295-c70e-4449-b0f7-fc122ec38e11"
      },
      "source": [
        "consumidor1 = Consumidor(900000,120,1800000,15,1200000)\n",
        "consumidor1.pago_nomina()\n",
        "consumidor1.riqueza()\n",
        "consumidor1.compra()"
      ],
      "execution_count": 112,
      "outputs": [
        {
          "output_type": "stream",
          "name": "stdout",
          "text": [
            "Su salario total es: $ 3600000\n",
            "total en cuenta es: $ 5400000\n",
            "dinero disponible para gastar es: $ 810000.0\n",
            "no puede comprar el objeto, fondos insuficientes\n",
            "falta: $  -390000.0\n"
          ]
        }
      ]
    },
    {
      "cell_type": "code",
      "metadata": {
        "colab": {
          "base_uri": "https://localhost:8080/"
        },
        "id": "INmfCn9ovlLz",
        "outputId": "7ee5638b-3314-4a50-ef9d-1bb4ffeb4eed"
      },
      "source": [
        "consumidor1.mod_salario(1000000)\n",
        "consumidor1.pago_nomina()"
      ],
      "execution_count": 113,
      "outputs": [
        {
          "output_type": "stream",
          "name": "stdout",
          "text": [
            "Salario Modificado, nuevo salario: $ 1000000\n",
            "Su salario total es: $ 4000000\n"
          ]
        }
      ]
    },
    {
      "cell_type": "code",
      "metadata": {
        "colab": {
          "base_uri": "https://localhost:8080/"
        },
        "id": "FQwrIRjvyOmH",
        "outputId": "dee1139a-875c-4175-a393-56bb63e658a6"
      },
      "source": [
        "consumidor1.mod_dias_trabajados(20)\n",
        "consumidor1.pago_nomina()"
      ],
      "execution_count": 115,
      "outputs": [
        {
          "output_type": "stream",
          "name": "stdout",
          "text": [
            "Dias trabajados Modificado, nuevos dias trabajados:  20\n",
            "Aun no ha completado su salario\n"
          ]
        }
      ]
    },
    {
      "cell_type": "code",
      "metadata": {
        "colab": {
          "base_uri": "https://localhost:8080/"
        },
        "id": "eYSWb5t1z9q7",
        "outputId": "188b131c-e339-45f5-95ff-a27a8ca6e405"
      },
      "source": [
        "consumidor1.mod_ahorros(3000000)\n",
        "consumidor1.riqueza()"
      ],
      "execution_count": 118,
      "outputs": [
        {
          "output_type": "stream",
          "name": "stdout",
          "text": [
            "Nuevos ahorros Modificado: $ 3000000\n",
            "total en cuenta es: $ 3000000\n",
            "dinero disponible para gastar es: $ 450000.0\n"
          ]
        }
      ]
    },
    {
      "cell_type": "code",
      "metadata": {
        "colab": {
          "base_uri": "https://localhost:8080/"
        },
        "id": "sVb9pnTB0oMx",
        "outputId": "a4c43aa2-dfe3-4a2d-dcb4-420772f4bfc5"
      },
      "source": [
        "consumidor1.mod_porcentaje_gasto(30)\n",
        "consumidor1.riqueza()"
      ],
      "execution_count": 119,
      "outputs": [
        {
          "output_type": "stream",
          "name": "stdout",
          "text": [
            "Nuevo porcentaje gasto modificado:  30\n",
            "total en cuenta es: $ 3000000\n",
            "dinero disponible para gastar es: $ 900000.0\n"
          ]
        }
      ]
    },
    {
      "cell_type": "code",
      "metadata": {
        "colab": {
          "base_uri": "https://localhost:8080/"
        },
        "id": "F0nFLN3d01Yt",
        "outputId": "e6fede44-6036-4b04-8b7e-478c9e96ae89"
      },
      "source": [
        "consumidor1.mod_valor_compra(800000)\n",
        "consumidor1.compra()"
      ],
      "execution_count": 120,
      "outputs": [
        {
          "output_type": "stream",
          "name": "stdout",
          "text": [
            "Nuevo valor compra:  800000\n",
            "puede comprar el objeto\n",
            "nuevo dinero disponible para gastar: $ 100000.0\n"
          ]
        }
      ]
    }
  ]
}