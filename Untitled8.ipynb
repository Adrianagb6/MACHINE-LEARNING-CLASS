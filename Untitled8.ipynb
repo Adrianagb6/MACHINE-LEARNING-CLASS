{
  "nbformat": 4,
  "nbformat_minor": 0,
  "metadata": {
    "colab": {
      "name": "Untitled8.ipynb",
      "provenance": []
    },
    "kernelspec": {
      "name": "python3",
      "display_name": "Python 3"
    },
    "language_info": {
      "name": "python"
    }
  },
  "cells": [
    {
      "cell_type": "markdown",
      "metadata": {
        "id": "tpYRG7IwVFpT"
      },
      "source": [
        "## **NECESIDADES BÁSICAS INSATISFECHAS EN BOGOTA**"
      ]
    },
    {
      "cell_type": "code",
      "metadata": {
        "id": "IbyrP-zS8nc7"
      },
      "source": [
        "import pandas as pd               # para importar datos\n",
        "import numpy as np                # para trabajar con arreglos\n",
        "import matplotlib.pyplot as plt   # para plotear los datos\n",
        "import seaborn as sns             # para visualizar datos basados en matplobit"
      ],
      "execution_count": 2,
      "outputs": []
    },
    {
      "cell_type": "code",
      "metadata": {
        "id": "mgryFtFpP80-"
      },
      "source": [
        "data = pd.read_csv('/content/NBI_BOGOTA.csv')"
      ],
      "execution_count": 19,
      "outputs": []
    },
    {
      "cell_type": "code",
      "metadata": {
        "colab": {
          "base_uri": "https://localhost:8080/",
          "height": 204
        },
        "id": "VYmi7vFmQEuO",
        "outputId": "a5dcc11a-6903-414d-a37a-1460335d01f0"
      },
      "source": [
        "data.head()\n"
      ],
      "execution_count": 20,
      "outputs": [
        {
          "output_type": "execute_result",
          "data": {
            "text/html": [
              "<div>\n",
              "<style scoped>\n",
              "    .dataframe tbody tr th:only-of-type {\n",
              "        vertical-align: middle;\n",
              "    }\n",
              "\n",
              "    .dataframe tbody tr th {\n",
              "        vertical-align: top;\n",
              "    }\n",
              "\n",
              "    .dataframe thead th {\n",
              "        text-align: right;\n",
              "    }\n",
              "</style>\n",
              "<table border=\"1\" class=\"dataframe\">\n",
              "  <thead>\n",
              "    <tr style=\"text-align: right;\">\n",
              "      <th></th>\n",
              "      <th>COD. DEPT</th>\n",
              "      <th>DEPARTAMENTO</th>\n",
              "      <th>COD. LOCALI</th>\n",
              "      <th>NOMB.  LOCALIDAD</th>\n",
              "      <th>POBLACION</th>\n",
              "      <th>VIVIENDAS</th>\n",
              "      <th>POBREZA MULTIDIM.</th>\n",
              "      <th>HACINAMIENTO</th>\n",
              "      <th>NBI</th>\n",
              "      <th>SERVICIOS INSATISFECHOS.</th>\n",
              "      <th>DEP. ECONOMICA</th>\n",
              "    </tr>\n",
              "  </thead>\n",
              "  <tbody>\n",
              "    <tr>\n",
              "      <th>0</th>\n",
              "      <td>11</td>\n",
              "      <td>BOGOTA D.C</td>\n",
              "      <td>1</td>\n",
              "      <td>USAQUEN</td>\n",
              "      <td>474.186</td>\n",
              "      <td>176.283</td>\n",
              "      <td>0,0309</td>\n",
              "      <td>0,0426</td>\n",
              "      <td>0,0474</td>\n",
              "      <td>0,0176</td>\n",
              "      <td>0,0335</td>\n",
              "    </tr>\n",
              "    <tr>\n",
              "      <th>1</th>\n",
              "      <td>11</td>\n",
              "      <td>BOGOTA D.C</td>\n",
              "      <td>2</td>\n",
              "      <td>CHAPINERO</td>\n",
              "      <td>126.591</td>\n",
              "      <td>64.861</td>\n",
              "      <td>0,0037</td>\n",
              "      <td>0,0101</td>\n",
              "      <td>0,0189</td>\n",
              "      <td>0,0189</td>\n",
              "      <td>0,0117</td>\n",
              "    </tr>\n",
              "    <tr>\n",
              "      <th>2</th>\n",
              "      <td>11</td>\n",
              "      <td>BOGOTA D.C</td>\n",
              "      <td>3</td>\n",
              "      <td>SANTA FE</td>\n",
              "      <td>95.201</td>\n",
              "      <td>35.361</td>\n",
              "      <td>0,0309</td>\n",
              "      <td>0,0114</td>\n",
              "      <td>0,0423</td>\n",
              "      <td>0,0035</td>\n",
              "      <td>0,0074</td>\n",
              "    </tr>\n",
              "    <tr>\n",
              "      <th>3</th>\n",
              "      <td>11</td>\n",
              "      <td>BOGOTA D.C</td>\n",
              "      <td>4</td>\n",
              "      <td>SAN CRISTOBAL</td>\n",
              "      <td>394.358</td>\n",
              "      <td>113.258</td>\n",
              "      <td>0,1430</td>\n",
              "      <td>0,0276</td>\n",
              "      <td>0,0394</td>\n",
              "      <td>0,0113</td>\n",
              "      <td>0,0226</td>\n",
              "    </tr>\n",
              "    <tr>\n",
              "      <th>4</th>\n",
              "      <td>11</td>\n",
              "      <td>BOGOTA D.C</td>\n",
              "      <td>5</td>\n",
              "      <td>USME</td>\n",
              "      <td>340.101</td>\n",
              "      <td>118.675</td>\n",
              "      <td>0,1541</td>\n",
              "      <td>0,0272</td>\n",
              "      <td>0,0474</td>\n",
              "      <td>0,0237</td>\n",
              "      <td>0,0356</td>\n",
              "    </tr>\n",
              "  </tbody>\n",
              "</table>\n",
              "</div>"
            ],
            "text/plain": [
              "   COD. DEPT DEPARTAMENTO  ...  SERVICIOS INSATISFECHOS. DEP. ECONOMICA\n",
              "0         11   BOGOTA D.C  ...                    0,0176         0,0335\n",
              "1         11   BOGOTA D.C  ...                    0,0189         0,0117\n",
              "2         11   BOGOTA D.C  ...                    0,0035         0,0074\n",
              "3         11   BOGOTA D.C  ...                    0,0113         0,0226\n",
              "4         11   BOGOTA D.C  ...                    0,0237         0,0356\n",
              "\n",
              "[5 rows x 11 columns]"
            ]
          },
          "metadata": {},
          "execution_count": 20
        }
      ]
    },
    {
      "cell_type": "markdown",
      "metadata": {
        "id": "3t3vjoQnSLpq"
      },
      "source": [
        "# **Descripcion economica**\n",
        "El deficit de la calidad de vida que presentan las personas en Bogota, se mantiene con un alto nivel de necesidades basicas insatisfechas en puntos especificos de la capital, por lo tanto es de gran importancia estudiar las variables que conocemos para determinar las causas y las consecuencias de la problematica, por medio de la encuesta multiproposito se visualiza la pobreza y desigualdad que existe entre localidades.\n"
      ]
    },
    {
      "cell_type": "code",
      "metadata": {
        "colab": {
          "base_uri": "https://localhost:8080/"
        },
        "id": "QGVaBkQ5Q0lK",
        "outputId": "dca03821-4702-4757-f4a9-97a1af0ef998"
      },
      "source": [
        "data.columns"
      ],
      "execution_count": 21,
      "outputs": [
        {
          "output_type": "execute_result",
          "data": {
            "text/plain": [
              "Index(['COD. DEPT', 'DEPARTAMENTO', 'COD. LOCALI', 'NOMB.  LOCALIDAD',\n",
              "       'POBLACION', 'VIVIENDAS', 'POBREZA MULTIDIM.', 'HACINAMIENTO', 'NBI',\n",
              "       'SERVICIOS INSATISFECHOS.', 'DEP. ECONOMICA'],\n",
              "      dtype='object')"
            ]
          },
          "metadata": {},
          "execution_count": 21
        }
      ]
    },
    {
      "cell_type": "code",
      "metadata": {
        "colab": {
          "base_uri": "https://localhost:8080/"
        },
        "id": "g5tQd_4EQ5-N",
        "outputId": "fbf6761c-fde7-4794-8a2d-8695c269c6ec"
      },
      "source": [
        "data.info()"
      ],
      "execution_count": 22,
      "outputs": [
        {
          "output_type": "stream",
          "name": "stdout",
          "text": [
            "<class 'pandas.core.frame.DataFrame'>\n",
            "RangeIndex: 20 entries, 0 to 19\n",
            "Data columns (total 11 columns):\n",
            " #   Column                    Non-Null Count  Dtype  \n",
            "---  ------                    --------------  -----  \n",
            " 0   COD. DEPT                 20 non-null     int64  \n",
            " 1   DEPARTAMENTO              20 non-null     object \n",
            " 2   COD. LOCALI               20 non-null     int64  \n",
            " 3   NOMB.  LOCALIDAD          20 non-null     object \n",
            " 4   POBLACION                 20 non-null     object \n",
            " 5   VIVIENDAS                 20 non-null     float64\n",
            " 6   POBREZA MULTIDIM.         20 non-null     object \n",
            " 7   HACINAMIENTO              20 non-null     object \n",
            " 8   NBI                       20 non-null     object \n",
            " 9   SERVICIOS INSATISFECHOS.  20 non-null     object \n",
            " 10  DEP. ECONOMICA            20 non-null     object \n",
            "dtypes: float64(1), int64(2), object(8)\n",
            "memory usage: 1.8+ KB\n"
          ]
        }
      ]
    },
    {
      "cell_type": "code",
      "metadata": {
        "colab": {
          "base_uri": "https://localhost:8080/"
        },
        "id": "8LUn_koEQ___",
        "outputId": "5034da6b-3422-441e-a5a6-7c55ae148f68"
      },
      "source": [
        "data.shape"
      ],
      "execution_count": 23,
      "outputs": [
        {
          "output_type": "execute_result",
          "data": {
            "text/plain": [
              "(20, 11)"
            ]
          },
          "metadata": {},
          "execution_count": 23
        }
      ]
    },
    {
      "cell_type": "code",
      "metadata": {
        "colab": {
          "base_uri": "https://localhost:8080/"
        },
        "id": "riFK3DnHRzdN",
        "outputId": "73bede57-970c-4495-d212-914caa584632"
      },
      "source": [
        "data.mean()"
      ],
      "execution_count": 24,
      "outputs": [
        {
          "output_type": "execute_result",
          "data": {
            "text/plain": [
              "COD. DEPT       11.0000\n",
              "COD. LOCALI     10.5000\n",
              "VIVIENDAS      151.8065\n",
              "dtype: float64"
            ]
          },
          "metadata": {},
          "execution_count": 24
        }
      ]
    },
    {
      "cell_type": "code",
      "metadata": {
        "colab": {
          "base_uri": "https://localhost:8080/"
        },
        "id": "13SZIiTtR85B",
        "outputId": "dcbee8e1-5189-4039-a360-b2b8be4fc5f8"
      },
      "source": [
        "data.std()"
      ],
      "execution_count": 25,
      "outputs": [
        {
          "output_type": "execute_result",
          "data": {
            "text/plain": [
              "COD. DEPT        0.000000\n",
              "COD. LOCALI      5.916080\n",
              "VIVIENDAS      152.265849\n",
              "dtype: float64"
            ]
          },
          "metadata": {},
          "execution_count": 25
        }
      ]
    },
    {
      "cell_type": "code",
      "metadata": {
        "colab": {
          "base_uri": "https://localhost:8080/",
          "height": 297
        },
        "id": "kGliHsdVR-zp",
        "outputId": "44720727-296f-4a7b-d7ca-5ebea25951d4"
      },
      "source": [
        "data.describe()"
      ],
      "execution_count": 26,
      "outputs": [
        {
          "output_type": "execute_result",
          "data": {
            "text/html": [
              "<div>\n",
              "<style scoped>\n",
              "    .dataframe tbody tr th:only-of-type {\n",
              "        vertical-align: middle;\n",
              "    }\n",
              "\n",
              "    .dataframe tbody tr th {\n",
              "        vertical-align: top;\n",
              "    }\n",
              "\n",
              "    .dataframe thead th {\n",
              "        text-align: right;\n",
              "    }\n",
              "</style>\n",
              "<table border=\"1\" class=\"dataframe\">\n",
              "  <thead>\n",
              "    <tr style=\"text-align: right;\">\n",
              "      <th></th>\n",
              "      <th>COD. DEPT</th>\n",
              "      <th>COD. LOCALI</th>\n",
              "      <th>VIVIENDAS</th>\n",
              "    </tr>\n",
              "  </thead>\n",
              "  <tbody>\n",
              "    <tr>\n",
              "      <th>count</th>\n",
              "      <td>20.0</td>\n",
              "      <td>20.00000</td>\n",
              "      <td>20.000000</td>\n",
              "    </tr>\n",
              "    <tr>\n",
              "      <th>mean</th>\n",
              "      <td>11.0</td>\n",
              "      <td>10.50000</td>\n",
              "      <td>151.806500</td>\n",
              "    </tr>\n",
              "    <tr>\n",
              "      <th>std</th>\n",
              "      <td>0.0</td>\n",
              "      <td>5.91608</td>\n",
              "      <td>152.265849</td>\n",
              "    </tr>\n",
              "    <tr>\n",
              "      <th>min</th>\n",
              "      <td>11.0</td>\n",
              "      <td>1.00000</td>\n",
              "      <td>9.694000</td>\n",
              "    </tr>\n",
              "    <tr>\n",
              "      <th>25%</th>\n",
              "      <td>11.0</td>\n",
              "      <td>5.75000</td>\n",
              "      <td>59.892000</td>\n",
              "    </tr>\n",
              "    <tr>\n",
              "      <th>50%</th>\n",
              "      <td>11.0</td>\n",
              "      <td>10.50000</td>\n",
              "      <td>106.920500</td>\n",
              "    </tr>\n",
              "    <tr>\n",
              "      <th>75%</th>\n",
              "      <td>11.0</td>\n",
              "      <td>15.25000</td>\n",
              "      <td>179.336250</td>\n",
              "    </tr>\n",
              "    <tr>\n",
              "      <th>max</th>\n",
              "      <td>11.0</td>\n",
              "      <td>20.00000</td>\n",
              "      <td>662.000000</td>\n",
              "    </tr>\n",
              "  </tbody>\n",
              "</table>\n",
              "</div>"
            ],
            "text/plain": [
              "       COD. DEPT  COD. LOCALI   VIVIENDAS\n",
              "count       20.0     20.00000   20.000000\n",
              "mean        11.0     10.50000  151.806500\n",
              "std          0.0      5.91608  152.265849\n",
              "min         11.0      1.00000    9.694000\n",
              "25%         11.0      5.75000   59.892000\n",
              "50%         11.0     10.50000  106.920500\n",
              "75%         11.0     15.25000  179.336250\n",
              "max         11.0     20.00000  662.000000"
            ]
          },
          "metadata": {},
          "execution_count": 26
        }
      ]
    },
    {
      "cell_type": "code",
      "metadata": {
        "id": "5_343Q5Bl2QM"
      },
      "source": [
        ""
      ],
      "execution_count": null,
      "outputs": []
    },
    {
      "cell_type": "markdown",
      "metadata": {
        "id": "XfqDBCGyj6_Y"
      },
      "source": [
        "#**PREGUNTAS DE INVESTIGACION**\n",
        "1. ¿La desigualdad en la capital colombiana está dada por los resultados de los indices de NBI?\n",
        "2. ¿La dependencia economica es uno de los factores de la probreza en Bogota?\n",
        "3. ¿Por que en localidades como sumapaz hay altos indices de servicios insatisfechos, teniendo en cuenta la cantidad de poblacion que hay?\n",
        "4. ¿Se esta teniendo en cuenta las cifras de la encuesta multiproposito al gestionar investigaciones sobre las politicas publicas de la ciudad?\n",
        "5. ¿La cantidad de viviendas en la localidad afecta sobre la variable pobreza?"
      ]
    },
    {
      "cell_type": "markdown",
      "metadata": {
        "id": "MNzS9besgntc"
      },
      "source": [
        "#**CONCLUSIONES**\n",
        "1. La desigualdad de Bogota es generada por la concentracion de riqueza, dados los datos presentados en la encuesta multripoposito.\n",
        "2. Se debe optar por medidas acordes a las necesidades de los ciudadanos de localidades con bajos recursos y de esta manera prevenir un indice mayor de desigualdad en la ciudad."
      ]
    }
  ]
}