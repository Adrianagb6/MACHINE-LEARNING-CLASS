{
  "nbformat": 4,
  "nbformat_minor": 0,
  "metadata": {
    "colab": {
      "name": "Untitled2.ipynb",
      "provenance": []
    },
    "kernelspec": {
      "name": "python3",
      "display_name": "Python 3"
    },
    "language_info": {
      "name": "python"
    }
  },
  "cells": [
    {
      "cell_type": "markdown",
      "metadata": {
        "id": "fUKaDNqZ9PSx"
      },
      "source": [
        "## **Watermelon**"
      ]
    },
    {
      "cell_type": "code",
      "metadata": {
        "colab": {
          "base_uri": "https://localhost:8080/"
        },
        "id": "AKQJkmKOdoUg",
        "outputId": "43e8866c-114f-497f-a1b0-efe21de2316e"
      },
      "source": [
        "def sandia(w):\n",
        "  if (w >= 1 and w <= 100):\n",
        "    r = w % 2\n",
        "    if (r == 0):\n",
        "      print(\"YES\")\n",
        "    else:\n",
        "      print(\"NO\")\n",
        "  else:\n",
        "    print(\"INPUT NUMBER ISN'T VALID\")\n",
        "\n",
        "w = int(input(\"Enter weight:\"))\n",
        "sandia(w)"
      ],
      "execution_count": 6,
      "outputs": [
        {
          "output_type": "stream",
          "name": "stdout",
          "text": [
            "Watermelon\n",
            "Enter weight:30\n",
            "YES\n"
          ]
        }
      ]
    },
    {
      "cell_type": "markdown",
      "metadata": {
        "id": "TZCti72R9d3r"
      },
      "source": [
        "## **Way Too Long Words**"
      ]
    },
    {
      "cell_type": "code",
      "metadata": {
        "colab": {
          "base_uri": "https://localhost:8080/"
        },
        "id": "IYK--Wmok1_b",
        "outputId": "79af62fb-c107-44a8-ca33-1478c2b1a475"
      },
      "source": [
        "ps[0] = int(input(\"Enter n:\"))\n",
        "\n",
        "i = 1\n",
        "while i <= ps[0]:\n",
        "  ps[i] = input(\"Enter word:\")\n",
        "  i += 1\n",
        "\n",
        "print (\"OUTPUT\")\n",
        "\n",
        "i = 1\n",
        "while i <= ps[0]:\n",
        "  l = len(ps[i])\n",
        "  if(l > 10):\n",
        "    pa = ps[i]\n",
        "    a = pa[0:1] + str(l - 2) + pa[l-1:l]\n",
        "  else:\n",
        "    a = ps[i]\n",
        "  print(a)\n",
        "  i += 1"
      ],
      "execution_count": 10,
      "outputs": [
        {
          "output_type": "stream",
          "name": "stdout",
          "text": [
            "Way Too Long Words\n",
            "Enter n:4\n",
            "Enter word:word\n",
            "Enter word:localization\n",
            "Enter word:internationalization\n",
            "Enter word:pneumonoultramicroscopicsilicovolcanoconiosis\n",
            "OUTPUT\n",
            "word\n",
            "l10n\n",
            "i18n\n",
            "p43s\n"
          ]
        }
      ]
    },
    {
      "cell_type": "code",
      "metadata": {
        "id": "zIs7UPK4lHqO"
      },
      "source": [
        "p = \"4 palabras localización internacionalización pneumonoultramicroscopicsilicovolcanoconiosis\" # se define la cadena de entrada \"numero palabras(1) palabra(2) ... palabra(numero)\"\n",
        "ps = p.split(\" \") # se separa la cadena p y se almacena en un arreglo\n",
        "\n",
        "i = 1 # se inicia un contador\n",
        "while i <= int(ps[0]): # se inicia un bucle que ve de a una las palabras del arreglo\n",
        "  l = len(ps[i]) # se almacena la cantidad de caracteres de la palabra\n",
        "  if(l > 10): # se evalua la condicion de la cantidad de caracteres estrictamente mayor a 10\n",
        "    pa = ps[i] # variable auxiliar que almacena la palabra\n",
        "    a = pa[0:1] + str(l - 2) + pa[l-1:l] # se crea nueva cadena que concatena la primera letra + el numero de caracteres - 2 + ultima letra de la palabra\n",
        "  else: # en caso que no se cumpla la condicion\n",
        "    a = ps[i] # la nueva cadena es igual a la palabra\n",
        "  print(a) # se imprime la nueva cadena\n",
        "  i += 1 # se incrementa el contador"
      ],
      "execution_count": null,
      "outputs": []
    },
    {
      "cell_type": "markdown",
      "metadata": {
        "id": "syIY7UxY9qzJ"
      },
      "source": [
        "##**Team**"
      ]
    },
    {
      "cell_type": "code",
      "metadata": {
        "id": "NyA0S0ws8WPB"
      },
      "source": [
        "def team(n,matriz): #La funcion propuesta para determinar la solucion al numero de problemas a resolver\n",
        "  a = 0                 \n",
        "  for i in range(n):\n",
        "    if sum(M[i]) >= 2: # Si la suma de la columna 1 es mayor a dos, se soluciona\n",
        "      a +=  1  \n",
        "    else:\n",
        "      a = a # Si no se cumple, el grupo no soluciona el problema.\n",
        "  \n",
        "  print(a)"
      ],
      "execution_count": 15,
      "outputs": []
    },
    {
      "cell_type": "code",
      "metadata": {
        "colab": {
          "base_uri": "https://localhost:8080/"
        },
        "id": "Ly3E8qaP_KHD",
        "outputId": "5fe7153a-9773-41e6-e7b1-a95026b98c91"
      },
      "source": [
        "M = [[1,0,0],\n",
        "     [0,1,1]]\n",
        "print(M)\n",
        "team(2,M)\n",
        " "
      ],
      "execution_count": 16,
      "outputs": [
        {
          "output_type": "stream",
          "name": "stdout",
          "text": [
            "[[1, 0, 0], [0, 1, 1]]\n",
            "1\n"
          ]
        }
      ]
    },
    {
      "cell_type": "markdown",
      "metadata": {
        "id": "H9INokSoAX60"
      },
      "source": [
        "##**Next round**"
      ]
    },
    {
      "cell_type": "code",
      "metadata": {
        "id": "Fo4cuzJxAUEX"
      },
      "source": [
        "def next_round(n,k,calificaciones):\n",
        "  contador = 0\n",
        "  calificacion_k = calificaciones[k] \n",
        "  for i in range(n):\n",
        "    if (n>=1) and (n<=50) and (k>=1) and (k<=50) and (k<=n) and (calificaciones[i] > 0) and (calificaciones[i] <= 100): \n",
        "      if calificaciones[i] >= calificacion_k: \n",
        "        contador = contador + 1\n",
        "      else:\n",
        "        contador = contador \n",
        "  print(contador)"
      ],
      "execution_count": 26,
      "outputs": []
    },
    {
      "cell_type": "code",
      "metadata": {
        "colab": {
          "base_uri": "https://localhost:8080/"
        },
        "id": "bMY9GtqBCgDk",
        "outputId": "cf702451-9f74-4115-9d7e-7c41059ce351"
      },
      "source": [
        "next_round(4,2,[0, 0, 0, 0])"
      ],
      "execution_count": 27,
      "outputs": [
        {
          "output_type": "stream",
          "name": "stdout",
          "text": [
            "0\n"
          ]
        }
      ]
    },
    {
      "cell_type": "markdown",
      "metadata": {
        "id": "BJFXGQ4tDjyi"
      },
      "source": [
        "##**Domino piling**"
      ]
    },
    {
      "cell_type": "code",
      "metadata": {
        "id": "iOwhGpIJDqvk"
      },
      "source": [
        "def dominopiling(M,N): # \n",
        "  if (M>=1) and (M<=16) and (N>=1) and (N<=16) and (M<=N): #restricciones de entrada\n",
        "    return(int(M*N/2)) #un domino ocupa dos unidades de area, para ocupar la mayor area posible sin sobreponerse se divide el area total y se redondea hacia abajo\n",
        "  else: \n",
        "    \" Valores no validos\""
      ],
      "execution_count": 30,
      "outputs": []
    },
    {
      "cell_type": "code",
      "metadata": {
        "colab": {
          "base_uri": "https://localhost:8080/"
        },
        "id": "BuL9-KPQFGkm",
        "outputId": "82819d82-90b3-4028-bdd5-350e79f4999c"
      },
      "source": [
        "dominopiling(2,4)"
      ],
      "execution_count": 31,
      "outputs": [
        {
          "output_type": "execute_result",
          "data": {
            "text/plain": [
              "4"
            ]
          },
          "metadata": {},
          "execution_count": 31
        }
      ]
    },
    {
      "cell_type": "code",
      "metadata": {
        "colab": {
          "base_uri": "https://localhost:8080/"
        },
        "id": "YXz8_T8YFWIl",
        "outputId": "fe91953e-633b-4a88-c666-338aceca8bef"
      },
      "source": [
        "dominopiling(3,3)"
      ],
      "execution_count": 32,
      "outputs": [
        {
          "output_type": "execute_result",
          "data": {
            "text/plain": [
              "4"
            ]
          },
          "metadata": {},
          "execution_count": 32
        }
      ]
    }
  ]
}