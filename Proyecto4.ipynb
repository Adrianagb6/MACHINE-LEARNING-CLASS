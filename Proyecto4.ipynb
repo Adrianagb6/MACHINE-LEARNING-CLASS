{
  "nbformat": 4,
  "nbformat_minor": 0,
  "metadata": {
    "colab": {
      "name": "Proyecto4.ipynb",
      "provenance": [],
      "collapsed_sections": []
    },
    "kernelspec": {
      "name": "python3",
      "display_name": "Python 3"
    },
    "language_info": {
      "name": "python"
    }
  },
  "cells": [
    {
      "cell_type": "markdown",
      "metadata": {
        "id": "7c15l9hbHg24"
      },
      "source": [
        "# **Regresión Lineal**"
      ]
    },
    {
      "cell_type": "markdown",
      "metadata": {
        "id": "sbjcz6BjKEzn"
      },
      "source": [
        "### **Declaración de las librerias**"
      ]
    },
    {
      "cell_type": "code",
      "metadata": {
        "id": "vIyCP67KHWTb"
      },
      "source": [
        "import pandas as pd               # para importar datos\n",
        "import numpy as np                # para trabajar con arreglos\n",
        "import matplotlib.pyplot as plt   # para plotear los datos"
      ],
      "execution_count": null,
      "outputs": []
    },
    {
      "cell_type": "markdown",
      "metadata": {
        "id": "ImYBHU2VNYab"
      },
      "source": [
        "### **Declaración de la clase regresión**"
      ]
    },
    {
      "cell_type": "code",
      "metadata": {
        "id": "gGj21L9FLSBM"
      },
      "source": [
        "class Regresion:\n",
        "  # metodo de inicializacion del objeto\n",
        "  def __init__(self, data):\n",
        "    self.df = data\n",
        "    self.columns_names = list(df.columns.values)  # definicion lista de los nombres de las columnas\n",
        "    \n",
        "  # metodo para estimar los coeficientes de la regresion lineal\n",
        "  def fit(self):\n",
        "    # definicion de las variables\n",
        "    x = np.array(self.df.loc[:, self.columns_names[0]])\n",
        "    y = np.array(self.df.loc[:, self.columns_names[1]])\n",
        "    # definicion de las sumatorias\n",
        "    sumx = 0\n",
        "    sumy = 0\n",
        "    sumxy = 0\n",
        "    sumx2 = 0\n",
        "    # bucle para obtener las sumatorias\n",
        "    n = len(x)\n",
        "    for i in range(n):\n",
        "      sumx = sumx + x[i]\n",
        "      sumy = sumy + y[i]\n",
        "      sumxy = sumxy + x[i]*y[i]\n",
        "      sumx2 = sumx2 + x[i]**2\n",
        "    # definicion de la interseccion \n",
        "    b0 = (sumy*sumx2 - sumx*sumxy)/(n*sumx2 - abs(sumx)**2)\n",
        "    # definicion de la rampa\n",
        "    b1 = (n*sumxy - sumx*sumy)/(n*sumx2 - abs(sumx)**2)\n",
        "    return b0, b1 \n",
        "\n",
        "  # funcion de la recta de la regresion lineal\n",
        "  def recta(self, x):\n",
        "    b0, b1 = self.fit() # se emplean los coeficientes\n",
        "    return b0 + b1*x\n",
        "  \n",
        "  # metodo para graficar la regresion lineal\n",
        "  def graph(self):\n",
        "    b0, b1 = self.fit() # se emplean los coeficientes\n",
        "    print(\"Los coeficientes interseccion y rampa son:\", b0, \"y\", b1)\n",
        "    # separacion del dataFrame en arreglos\n",
        "    x = np.array(self.df.loc[:, self.columns_names[0]])\n",
        "    y = np.array(self.df.loc[:, self.columns_names[1]])\n",
        "    # gerecion de la lista de la recta\n",
        "    mirecta = list(map(self.recta, x))\n",
        "    #  graficas\n",
        "    plt.scatter(x, y)\n",
        "    plt.plot(x, mirecta, color='red')\n",
        "    plt.show()\n",
        "\n",
        "  # metodo para predecir un valor a partir de la regresion lineal\n",
        "  def predict(self, x : int):\n",
        "    estimado = self.recta(x)\n",
        "    print(\"Para x =\", x, \", se estima y =\", estimado)"
      ],
      "execution_count": null,
      "outputs": []
    },
    {
      "cell_type": "markdown",
      "metadata": {
        "id": "y5gFFN4IORkG"
      },
      "source": [
        "### **Importación de los datos**"
      ]
    },
    {
      "cell_type": "code",
      "metadata": {
        "colab": {
          "base_uri": "https://localhost:8080/"
        },
        "id": "Gv17mobiOYfB",
        "outputId": "e9b58f7b-3f6f-41c7-c2c7-f8bb6ab277b2"
      },
      "source": [
        "# Ruta de los datos : /content/datos.csv\n",
        "df = pd.read_csv('/content/datos.csv')  # Creacion del dataFrame\n",
        "print(df)"
      ],
      "execution_count": null,
      "outputs": [
        {
          "output_type": "stream",
          "name": "stdout",
          "text": [
            "    year    data\n",
            "0   1922  437.25\n",
            "1   1923  494.95\n",
            "2   1924  277.65\n",
            "3   1925  404.15\n",
            "4   1926  481.05\n",
            "..   ...     ...\n",
            "95  2017  435.55\n",
            "96  2018  325.65\n",
            "97  2019  358.15\n",
            "98  2020  277.25\n",
            "99  2021  265.55\n",
            "\n",
            "[100 rows x 2 columns]\n"
          ]
        }
      ]
    },
    {
      "cell_type": "markdown",
      "metadata": {
        "id": "jQm4QX5KfeiM"
      },
      "source": [
        "**Gráfica de los datos**"
      ]
    },
    {
      "cell_type": "code",
      "metadata": {
        "colab": {
          "base_uri": "https://localhost:8080/",
          "height": 279
        },
        "id": "TcsAUH1hcAiO",
        "outputId": "5e3e2ac1-4e07-47f6-f323-67ee8f83dbd2"
      },
      "source": [
        "df.plot(kind = 'scatter', x = 'year', y = 'data')\n",
        "plt.show()"
      ],
      "execution_count": null,
      "outputs": [
        {
          "output_type": "display_data",
          "data": {
            "image/png": "[encoded data removed]",
            "text/plain": [
              "<Figure size 432x288 with 1 Axes>"
            ]
          },
          "metadata": {
            "needs_background": "light"
          }
        }
      ]
    },
    {
      "cell_type": "markdown",
      "metadata": {
        "id": "aRTCrdK5NjK8"
      },
      "source": [
        "### **Creación del objeto**"
      ]
    },
    {
      "cell_type": "code",
      "metadata": {
        "id": "_yxx7_v3M8g8"
      },
      "source": [
        "Regresion1 = Regresion(df)"
      ],
      "execution_count": null,
      "outputs": []
    },
    {
      "cell_type": "markdown",
      "metadata": {
        "id": "IDEZVk1JNrMg"
      },
      "source": [
        "### **Método para estimar los coeficientes**"
      ]
    },
    {
      "cell_type": "code",
      "metadata": {
        "colab": {
          "base_uri": "https://localhost:8080/"
        },
        "id": "rY2uUh2XNPiJ",
        "outputId": "5a75a767-9fd7-475a-a6bd-2f06afefd36f"
      },
      "source": [
        "Regresion1.fit()"
      ],
      "execution_count": null,
      "outputs": [
        {
          "output_type": "execute_result",
          "data": {
            "text/plain": [
              "(685.3293231325476, -0.14147974797491195)"
            ]
          },
          "metadata": {},
          "execution_count": 178
        }
      ]
    },
    {
      "cell_type": "markdown",
      "metadata": {
        "id": "1K071HACoVff"
      },
      "source": [
        "### **Método para graficar la regresión lineal**"
      ]
    },
    {
      "cell_type": "code",
      "metadata": {
        "colab": {
          "base_uri": "https://localhost:8080/",
          "height": 282
        },
        "id": "PJdVT8joocKq",
        "outputId": "f4fab327-031b-48cc-ed65-8bae2f096bb5"
      },
      "source": [
        "Regresion1.graph()"
      ],
      "execution_count": null,
      "outputs": [
        {
          "output_type": "stream",
          "name": "stdout",
          "text": [
            "Los coeficientes interseccion y rampa son: 685.3293231325476 y -0.14147974797491195\n"
          ]
        },
        {
          "output_type": "display_data",
          "data": {
            "image/png": "[encoded data removed]",
            "text/plain": [
              "<Figure size 432x288 with 1 Axes>"
            ]
          },
          "metadata": {
            "needs_background": "light"
          }
        }
      ]
    },
    {
      "cell_type": "markdown",
      "metadata": {
        "id": "ib6Bi8ILN-p1"
      },
      "source": [
        "### **Método para predecir valores**"
      ]
    },
    {
      "cell_type": "code",
      "metadata": {
        "colab": {
          "base_uri": "https://localhost:8080/"
        },
        "id": "O0yaW2D3NPp3",
        "outputId": "9dee8e76-5ef4-44e9-a026-658ca4623cbf"
      },
      "source": [
        "Regresion1.predict(2021)"
      ],
      "execution_count": null,
      "outputs": [
        {
          "output_type": "stream",
          "name": "stdout",
          "text": [
            "Para x = 2021 , se estima y = 399.3987524752506\n"
          ]
        }
      ]
    }
  ]
}